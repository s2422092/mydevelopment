{
 "cells": [
  {
   "cell_type": "code",
   "execution_count": null,
   "metadata": {},
   "outputs": [],
   "source": [
    "import pandas as pd\n",
    "data = pd.read_csv('/Users/yugo_suzuki/mydevelopment/development/ds-3-wine/data-csv/winequality-red.csv')"
   ]
  },
  {
   "cell_type": "code",
   "execution_count": 2,
   "metadata": {},
   "outputs": [
    {
     "name": "stdout",
     "output_type": "stream",
     "text": [
      "         fixed acidity  volatile acidity  citric acid  residual sugar  \\\n",
      "quality                                                                 \n",
      "3             8.360000          0.884500     0.171000        2.635000   \n",
      "4             7.779245          0.693962     0.174151        2.694340   \n",
      "5             8.167254          0.577041     0.243686        2.528855   \n",
      "6             8.347179          0.497484     0.273824        2.477194   \n",
      "7             8.872362          0.403920     0.375176        2.720603   \n",
      "8             8.566667          0.423333     0.391111        2.577778   \n",
      "\n",
      "         chlorides  free sulfur dioxide  total sulfur dioxide   density  \\\n",
      "quality                                                                   \n",
      "3         0.122500            11.000000             24.900000  0.997464   \n",
      "4         0.090679            12.264151             36.245283  0.996542   \n",
      "5         0.092736            16.983847             56.513950  0.997104   \n",
      "6         0.084956            15.711599             40.869906  0.996615   \n",
      "7         0.076588            14.045226             35.020101  0.996104   \n",
      "8         0.068444            13.277778             33.444444  0.995212   \n",
      "\n",
      "               pH  sulphates    alcohol  \n",
      "quality                                  \n",
      "3        3.398000   0.570000   9.955000  \n",
      "4        3.381509   0.596415  10.265094  \n",
      "5        3.304949   0.620969   9.899706  \n",
      "6        3.318072   0.675329  10.629519  \n",
      "7        3.290754   0.741256  11.465913  \n",
      "8        3.267222   0.767778  12.094444  \n"
     ]
    }
   ],
   "source": [
    "# 品質ごとのそれぞれのデータの平均値を求める\n",
    "data.groupby('quality').mean()\n",
    "print(data.groupby('quality').mean())"
   ]
  }
 ],
 "metadata": {
  "kernelspec": {
   "display_name": ".venv",
   "language": "python",
   "name": "python3"
  },
  "language_info": {
   "codemirror_mode": {
    "name": "ipython",
    "version": 3
   },
   "file_extension": ".py",
   "mimetype": "text/x-python",
   "name": "python",
   "nbconvert_exporter": "python",
   "pygments_lexer": "ipython3",
   "version": "3.10.1"
  }
 },
 "nbformat": 4,
 "nbformat_minor": 2
}
