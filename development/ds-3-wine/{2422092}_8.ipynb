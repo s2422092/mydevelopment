{
 "cells": [
  {
   "cell_type": "code",
   "execution_count": 4,
   "metadata": {},
   "outputs": [
    {
     "name": "stdout",
     "output_type": "stream",
     "text": [
      "      fixed acidity  volatile acidity  citric acid  residual sugar  chlorides  \\\n",
      "278            10.3              0.32         0.45             6.4      0.073   \n",
      "828             7.8              0.57         0.09             2.3      0.065   \n",
      "498            10.7              0.35         0.53             2.6      0.070   \n",
      "495            10.7              0.35         0.53             2.6      0.070   \n",
      "1403            7.2              0.33         0.33             1.7      0.061   \n",
      "...             ...               ...          ...             ...        ...   \n",
      "632             7.6              0.41         0.14             3.0      0.087   \n",
      "639             8.9              0.29         0.35             1.9      0.067   \n",
      "649             6.7              0.42         0.27             8.6      0.068   \n",
      "653             9.4              0.33         0.59             2.8      0.079   \n",
      "1598            6.0              0.31         0.47             3.6      0.067   \n",
      "\n",
      "      free sulfur dioxide  total sulfur dioxide  density    pH  sulphates  \\\n",
      "278                   5.0                  13.0  0.99760  3.23       0.82   \n",
      "828                  34.0                  45.0  0.99417  3.46       0.74   \n",
      "498                   5.0                  16.0  0.99720  3.15       0.65   \n",
      "495                   5.0                  16.0  0.99720  3.15       0.65   \n",
      "1403                  3.0                  13.0  0.99600  3.23       1.10   \n",
      "...                   ...                   ...      ...   ...        ...   \n",
      "632                  21.0                  43.0  0.99640  3.32       0.57   \n",
      "639                  25.0                  57.0  0.99700  3.18       1.36   \n",
      "649                  24.0                 148.0  0.99480  3.16       0.57   \n",
      "653                   9.0                  30.0  0.99760  3.12       0.54   \n",
      "1598                 18.0                  42.0  0.99549  3.39       0.66   \n",
      "\n",
      "      alcohol  quality  \n",
      "278      12.6        8  \n",
      "828      12.7        8  \n",
      "498      11.0        8  \n",
      "495      11.0        8  \n",
      "1403     10.0        8  \n",
      "...       ...      ...  \n",
      "632      10.5        6  \n",
      "639      10.3        6  \n",
      "649      11.3        6  \n",
      "653      12.0        6  \n",
      "1598     11.0        6  \n",
      "\n",
      "[855 rows x 12 columns]\n"
     ]
    }
   ],
   "source": [
    "import pandas as pd\n",
    "data=pd.read_csv('/Users/yugo_suzuki/mydevelopment/development/ds-3-wine/data-csv/winequality-red.csv')\n",
    "## 品質が６以上のものを高い順に表示させる\n",
    "data[data['quality']>=6].sort_values('quality',ascending=False)\n",
    "print(data[data['quality']>=6].sort_values('quality',ascending=False))"
   ]
  }
 ],
 "metadata": {
  "kernelspec": {
   "display_name": ".venv",
   "language": "python",
   "name": "python3"
  },
  "language_info": {
   "codemirror_mode": {
    "name": "ipython",
    "version": 3
   },
   "file_extension": ".py",
   "mimetype": "text/x-python",
   "name": "python",
   "nbconvert_exporter": "python",
   "pygments_lexer": "ipython3",
   "version": "3.10.1"
  }
 },
 "nbformat": 4,
 "nbformat_minor": 2
}
