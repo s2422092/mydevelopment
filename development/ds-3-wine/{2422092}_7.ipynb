{
 "cells": [
  {
   "cell_type": "code",
   "execution_count": 2,
   "metadata": {},
   "outputs": [],
   "source": [
    "import pandas as pd"
   ]
  },
  {
   "cell_type": "code",
   "execution_count": 4,
   "metadata": {},
   "outputs": [
    {
     "name": "stdout",
     "output_type": "stream",
     "text": [
      "    fixed acidity  volatile acidity  citric acid  residual sugar  chlorides  \\\n",
      "5             7.4              0.66         0.00             1.8      0.075   \n",
      "6             7.9              0.60         0.06             1.6      0.069   \n",
      "7             7.3              0.65         0.00             1.2      0.065   \n",
      "8             7.8              0.58         0.02             2.0      0.073   \n",
      "9             7.5              0.50         0.36             6.1      0.071   \n",
      "10            6.7              0.58         0.08             1.8      0.097   \n",
      "\n",
      "    free sulfur dioxide  total sulfur dioxide  density    pH  sulphates  \\\n",
      "5                  13.0                  40.0   0.9978  3.51       0.56   \n",
      "6                  15.0                  59.0   0.9964  3.30       0.46   \n",
      "7                  15.0                  21.0   0.9946  3.39       0.47   \n",
      "8                   9.0                  18.0   0.9968  3.36       0.57   \n",
      "9                  17.0                 102.0   0.9978  3.35       0.80   \n",
      "10                 15.0                  65.0   0.9959  3.28       0.54   \n",
      "\n",
      "    alcohol  quality  \n",
      "5       9.4        5  \n",
      "6       9.4        5  \n",
      "7      10.0        7  \n",
      "8       9.5        7  \n",
      "9      10.5        5  \n",
      "10      9.2        5  \n"
     ]
    }
   ],
   "source": [
    "data=pd.read_csv('/Users/yugo_suzuki/mydevelopment/development/ds-3-wine/data-csv/winequality-red.csv')\n",
    "# 5~10行目を抽出\n",
    "data_5_10=data[5:11]\n",
    "print(data_5_10)"
   ]
  }
 ],
 "metadata": {
  "kernelspec": {
   "display_name": ".venv",
   "language": "python",
   "name": "python3"
  },
  "language_info": {
   "codemirror_mode": {
    "name": "ipython",
    "version": 3
   },
   "file_extension": ".py",
   "mimetype": "text/x-python",
   "name": "python",
   "nbconvert_exporter": "python",
   "pygments_lexer": "ipython3",
   "version": "3.10.1"
  }
 },
 "nbformat": 4,
 "nbformat_minor": 2
}
