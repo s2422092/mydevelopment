{
 "cells": [
  {
   "cell_type": "code",
   "execution_count": 3,
   "metadata": {},
   "outputs": [
    {
     "name": "stdout",
     "output_type": "stream",
     "text": [
      "   order_id  user_id  item_id  order_num\n",
      "0      1001        2      563          3\n",
      "1      1002        4      358          4\n",
      "2      1003        3      112          3\n",
      "3      1004        5      123          3\n",
      "4      1005       12      215          3\n",
      "   item_id item_name  item_price big_category small_category  pages\n",
      "0      101  Item_101        1611        novel             sf    580\n",
      "1      102  Item_102         164        comic      adventure    981\n",
      "2      103  Item_103         305        novel             sf    736\n",
      "3      104  Item_104         114        novel        romance    206\n",
      "4      105  Item_105         777        comic     historical    348\n"
     ]
    }
   ],
   "source": [
    "import pandas\n",
    "orders = pandas.read_csv('/Users/yugo_suzuki/mydevelopment/development/ds-4-task/orders - orders.csv')\n",
    "items = pandas.read_csv('/Users/yugo_suzuki/mydevelopment/development/ds-4-task/items - items.csv')\n",
    "\n",
    "toal_price=orders[\"order_num\"]*items[\"item_price\"]\n",
    "\n",
    "print(toal_price)\n"
   ]
  },
  {
   "cell_type": "code",
   "execution_count": 6,
   "metadata": {},
   "outputs": [
    {
     "name": "stdout",
     "output_type": "stream",
     "text": [
      "注文IDと購入金額:\n",
      "    order_id  total_price\n",
      "0       1001          912\n",
      "1       1002         7792\n",
      "2       1003         2379\n",
      "3       1004         4548\n",
      "4       1005         4236\n",
      "..       ...          ...\n",
      "95      1096         1938\n",
      "96      1097         4480\n",
      "97      1098         1208\n",
      "98      1099         5436\n",
      "99      1100         5248\n",
      "\n",
      "[100 rows x 2 columns]\n",
      "\n",
      "最も高い購入金額:\n",
      "[1050, 7860]\n"
     ]
    }
   ],
   "source": [
    "import pandas as pd\n",
    "\n",
    "# CSVファイルを読み込む\n",
    "orders = pd.read_csv('/Users/yugo_suzuki/mydevelopment/development/ds-4-task/orders - orders.csv')\n",
    "items = pd.read_csv('/Users/yugo_suzuki/mydevelopment/development/ds-4-task/items - items.csv')\n",
    "\n",
    "# 'order_id' と 'order_num' に基づいて購入金額を計算する\n",
    "# ordersとitemsをitem_idでマージして購入金額を算出\n",
    "merged_data = pd.merge(orders, items, on=\"item_id\", how=\"left\")\n",
    "\n",
    "# 購入金額を計算\n",
    "merged_data['total_price'] = merged_data['order_num'] * merged_data['item_price']\n",
    "\n",
    "# 'order_id' と計算した購入金額を出力\n",
    "print(\"注文IDと購入金額:\")\n",
    "print(merged_data[['order_id', 'total_price']])\n",
    "\n",
    "# 最も高い購入金額を出力\n",
    "max_purchase = merged_data.loc[merged_data['total_price'].idxmax()]\n",
    "\n",
    "# 最も高い購入金額と対応するorder_idを表示\n",
    "print(\"\\n最も高い購入金額:\")\n",
    "print([max_purchase['order_id'], max_purchase['total_price']])\n",
    "\n",
    "\n"
   ]
  },
  {
   "cell_type": "code",
   "execution_count": 7,
   "metadata": {},
   "outputs": [
    {
     "name": "stdout",
     "output_type": "stream",
     "text": [
      "    order_id  user_id  item_id  order_num item_name  item_price big_category  \\\n",
      "0       1001        2      563          3  Item_563         304        novel   \n",
      "1       1002        4      358          4  Item_358        1948        comic   \n",
      "2       1003        3      112          3  Item_112         793        novel   \n",
      "3       1004        5      123          3  Item_123        1516        novel   \n",
      "4       1005       12      215          3  Item_215        1412        comic   \n",
      "..       ...      ...      ...        ...       ...         ...          ...   \n",
      "95      1096       10      581          1  Item_581        1938        comic   \n",
      "96      1097       19      554          4  Item_554        1120        novel   \n",
      "97      1098        9      129          4  Item_129         302        comic   \n",
      "98      1099        8      292          4  Item_292        1359        comic   \n",
      "99      1100       10      158          4  Item_158        1312        comic   \n",
      "\n",
      "   small_category  pages  total_price  \n",
      "0         mystery    877          912  \n",
      "1         romance    846         7792  \n",
      "2         romance     57         2379  \n",
      "3           drama    855         4548  \n",
      "4              sf    224         4236  \n",
      "..            ...    ...          ...  \n",
      "95        romance    945         1938  \n",
      "96        fantasy    303         4480  \n",
      "97             sf     50         1208  \n",
      "98        fantasy    196         5436  \n",
      "99        mystery    235         5248  \n",
      "\n",
      "[100 rows x 10 columns]\n"
     ]
    }
   ],
   "source": [
    "print(merged_data)"
   ]
  }
 ],
 "metadata": {
  "kernelspec": {
   "display_name": ".venv",
   "language": "python",
   "name": "python3"
  },
  "language_info": {
   "codemirror_mode": {
    "name": "ipython",
    "version": 3
   },
   "file_extension": ".py",
   "mimetype": "text/x-python",
   "name": "python",
   "nbconvert_exporter": "python",
   "pygments_lexer": "ipython3",
   "version": "3.10.1"
  }
 },
 "nbformat": 4,
 "nbformat_minor": 2
}
