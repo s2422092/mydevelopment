{
 "cells": [
  {
   "cell_type": "code",
   "execution_count": 169,
   "metadata": {},
   "outputs": [
    {
     "data": {
      "text/html": [
       "<div>\n",
       "<style scoped>\n",
       "    .dataframe tbody tr th:only-of-type {\n",
       "        vertical-align: middle;\n",
       "    }\n",
       "\n",
       "    .dataframe tbody tr th {\n",
       "        vertical-align: top;\n",
       "    }\n",
       "\n",
       "    .dataframe thead th {\n",
       "        text-align: right;\n",
       "    }\n",
       "</style>\n",
       "<table border=\"1\" class=\"dataframe\">\n",
       "  <thead>\n",
       "    <tr style=\"text-align: right;\">\n",
       "      <th></th>\n",
       "      <th>ID</th>\n",
       "      <th>Gender</th>\n",
       "      <th>Ever_Married</th>\n",
       "      <th>Age</th>\n",
       "      <th>Graduated</th>\n",
       "      <th>Profession</th>\n",
       "      <th>Work_Experience</th>\n",
       "      <th>Spending_Score</th>\n",
       "      <th>Family_Size</th>\n",
       "      <th>Var_1</th>\n",
       "      <th>Segmentation</th>\n",
       "    </tr>\n",
       "  </thead>\n",
       "  <tbody>\n",
       "    <tr>\n",
       "      <th>0</th>\n",
       "      <td>462809</td>\n",
       "      <td>Male</td>\n",
       "      <td>No</td>\n",
       "      <td>22</td>\n",
       "      <td>No</td>\n",
       "      <td>Healthcare</td>\n",
       "      <td>1.0</td>\n",
       "      <td>Low</td>\n",
       "      <td>4.0</td>\n",
       "      <td>Cat_4</td>\n",
       "      <td>D</td>\n",
       "    </tr>\n",
       "    <tr>\n",
       "      <th>1</th>\n",
       "      <td>462643</td>\n",
       "      <td>Female</td>\n",
       "      <td>Yes</td>\n",
       "      <td>38</td>\n",
       "      <td>Yes</td>\n",
       "      <td>Engineer</td>\n",
       "      <td>NaN</td>\n",
       "      <td>Average</td>\n",
       "      <td>3.0</td>\n",
       "      <td>Cat_4</td>\n",
       "      <td>A</td>\n",
       "    </tr>\n",
       "    <tr>\n",
       "      <th>2</th>\n",
       "      <td>466315</td>\n",
       "      <td>Female</td>\n",
       "      <td>Yes</td>\n",
       "      <td>67</td>\n",
       "      <td>Yes</td>\n",
       "      <td>Engineer</td>\n",
       "      <td>1.0</td>\n",
       "      <td>Low</td>\n",
       "      <td>1.0</td>\n",
       "      <td>Cat_6</td>\n",
       "      <td>B</td>\n",
       "    </tr>\n",
       "    <tr>\n",
       "      <th>3</th>\n",
       "      <td>461735</td>\n",
       "      <td>Male</td>\n",
       "      <td>Yes</td>\n",
       "      <td>67</td>\n",
       "      <td>Yes</td>\n",
       "      <td>Lawyer</td>\n",
       "      <td>0.0</td>\n",
       "      <td>High</td>\n",
       "      <td>2.0</td>\n",
       "      <td>Cat_6</td>\n",
       "      <td>B</td>\n",
       "    </tr>\n",
       "    <tr>\n",
       "      <th>4</th>\n",
       "      <td>462669</td>\n",
       "      <td>Female</td>\n",
       "      <td>Yes</td>\n",
       "      <td>40</td>\n",
       "      <td>Yes</td>\n",
       "      <td>Entertainment</td>\n",
       "      <td>NaN</td>\n",
       "      <td>High</td>\n",
       "      <td>6.0</td>\n",
       "      <td>Cat_6</td>\n",
       "      <td>A</td>\n",
       "    </tr>\n",
       "  </tbody>\n",
       "</table>\n",
       "</div>"
      ],
      "text/plain": [
       "       ID  Gender Ever_Married  Age Graduated     Profession  Work_Experience  \\\n",
       "0  462809    Male           No   22        No     Healthcare              1.0   \n",
       "1  462643  Female          Yes   38       Yes       Engineer              NaN   \n",
       "2  466315  Female          Yes   67       Yes       Engineer              1.0   \n",
       "3  461735    Male          Yes   67       Yes         Lawyer              0.0   \n",
       "4  462669  Female          Yes   40       Yes  Entertainment              NaN   \n",
       "\n",
       "  Spending_Score  Family_Size  Var_1 Segmentation  \n",
       "0            Low          4.0  Cat_4            D  \n",
       "1        Average          3.0  Cat_4            A  \n",
       "2            Low          1.0  Cat_6            B  \n",
       "3           High          2.0  Cat_6            B  \n",
       "4           High          6.0  Cat_6            A  "
      ]
     },
     "execution_count": 169,
     "metadata": {},
     "output_type": "execute_result"
    }
   ],
   "source": [
    "#csvファイルの読み込み\n",
    "import pandas as pd\n",
    "df =pd.read_csv('/Users/yugo_suzuki/mydevelopment/development/dsプログラミング/Train.csv')\n",
    "df.head()"
   ]
  },
  {
   "cell_type": "code",
   "execution_count": 170,
   "metadata": {},
   "outputs": [
    {
     "data": {
      "text/plain": [
       "ID                   0\n",
       "Gender               0\n",
       "Ever_Married       140\n",
       "Age                  0\n",
       "Graduated           78\n",
       "Profession         124\n",
       "Work_Experience    829\n",
       "Spending_Score       0\n",
       "Family_Size        335\n",
       "Var_1               76\n",
       "Segmentation         0\n",
       "dtype: int64"
      ]
     },
     "execution_count": 170,
     "metadata": {},
     "output_type": "execute_result"
    }
   ],
   "source": [
    "#欠損値の確認\n",
    "df.isnull().sum()"
   ]
  },
  {
   "cell_type": "code",
   "execution_count": 171,
   "metadata": {},
   "outputs": [
    {
     "name": "stdout",
     "output_type": "stream",
     "text": [
      "ID                   int64\n",
      "Gender              object\n",
      "Ever_Married        object\n",
      "Age                  int64\n",
      "Graduated           object\n",
      "Profession          object\n",
      "Work_Experience    float64\n",
      "Spending_Score      object\n",
      "Family_Size        float64\n",
      "Var_1               object\n",
      "Segmentation        object\n",
      "dtype: object\n"
     ]
    }
   ],
   "source": [
    "#データタイプの確認\n",
    "df.dtypes\n",
    "print(df.dtypes)"
   ]
  },
  {
   "cell_type": "code",
   "execution_count": 172,
   "metadata": {},
   "outputs": [
    {
     "name": "stdout",
     "output_type": "stream",
     "text": [
      "['Healthcare' 'Engineer' 'Lawyer' 'Entertainment' 'Artist' 'Executive'\n",
      " 'Doctor' 'Homemaker' 'Marketing' nan]\n"
     ]
    }
   ],
   "source": [
    "print(df[\"Profession\"].unique())"
   ]
  },
  {
   "cell_type": "code",
   "execution_count": 173,
   "metadata": {},
   "outputs": [
    {
     "name": "stdout",
     "output_type": "stream",
     "text": [
      "['Low' 'Average' 'High']\n"
     ]
    }
   ],
   "source": [
    "print(df[\"Spending_Score\"].unique())"
   ]
  },
  {
   "cell_type": "code",
   "execution_count": 174,
   "metadata": {},
   "outputs": [
    {
     "name": "stdout",
     "output_type": "stream",
     "text": [
      "['Cat_4' 'Cat_6' 'Cat_7' 'Cat_3' 'Cat_1' 'Cat_2' nan 'Cat_5']\n"
     ]
    }
   ],
   "source": [
    "print(df[\"Var_1\"].unique())"
   ]
  },
  {
   "cell_type": "code",
   "execution_count": 175,
   "metadata": {},
   "outputs": [
    {
     "name": "stdout",
     "output_type": "stream",
     "text": [
      "['D' 'A' 'B' 'C']\n"
     ]
    }
   ],
   "source": [
    "print(df[\"Segmentation\"].unique())"
   ]
  },
  {
   "cell_type": "code",
   "execution_count": 176,
   "metadata": {},
   "outputs": [
    {
     "name": "stderr",
     "output_type": "stream",
     "text": [
      "/var/folders/nq/pf4848v92qq76wvlqb4x38j40000gn/T/ipykernel_74243/3778069133.py:8: FutureWarning: Downcasting behavior in `replace` is deprecated and will be removed in a future version. To retain the old behavior, explicitly call `result.infer_objects(copy=False)`. To opt-in to the future behavior, set `pd.set_option('future.no_silent_downcasting', True)`\n",
      "  df=df.replace({\"Gender\":{'Male':0,'Female':1}})\n",
      "/var/folders/nq/pf4848v92qq76wvlqb4x38j40000gn/T/ipykernel_74243/3778069133.py:9: FutureWarning: Downcasting behavior in `replace` is deprecated and will be removed in a future version. To retain the old behavior, explicitly call `result.infer_objects(copy=False)`. To opt-in to the future behavior, set `pd.set_option('future.no_silent_downcasting', True)`\n",
      "  df=df.replace({\"Ever_Married\":{'Yes':1,'No':0}})\n",
      "/var/folders/nq/pf4848v92qq76wvlqb4x38j40000gn/T/ipykernel_74243/3778069133.py:10: FutureWarning: Downcasting behavior in `replace` is deprecated and will be removed in a future version. To retain the old behavior, explicitly call `result.infer_objects(copy=False)`. To opt-in to the future behavior, set `pd.set_option('future.no_silent_downcasting', True)`\n",
      "  df=df.replace({\"Graduated\":{'Yes':1,'No':0}})\n",
      "/var/folders/nq/pf4848v92qq76wvlqb4x38j40000gn/T/ipykernel_74243/3778069133.py:11: FutureWarning: Downcasting behavior in `replace` is deprecated and will be removed in a future version. To retain the old behavior, explicitly call `result.infer_objects(copy=False)`. To opt-in to the future behavior, set `pd.set_option('future.no_silent_downcasting', True)`\n",
      "  df=df.replace({\"Profession\":{'Healthcare':0,'Engineer':1,'Lawyer':2,'Entertainment':3,'Artist':4,'Executive':5,'Doctor':6,'Homemaker':7,'Marketing':8}})\n",
      "/var/folders/nq/pf4848v92qq76wvlqb4x38j40000gn/T/ipykernel_74243/3778069133.py:12: FutureWarning: Downcasting behavior in `replace` is deprecated and will be removed in a future version. To retain the old behavior, explicitly call `result.infer_objects(copy=False)`. To opt-in to the future behavior, set `pd.set_option('future.no_silent_downcasting', True)`\n",
      "  df=df.replace({\"Spending_Score\":{'Low':0,'Average':1,'High':2}})\n",
      "/var/folders/nq/pf4848v92qq76wvlqb4x38j40000gn/T/ipykernel_74243/3778069133.py:13: FutureWarning: Downcasting behavior in `replace` is deprecated and will be removed in a future version. To retain the old behavior, explicitly call `result.infer_objects(copy=False)`. To opt-in to the future behavior, set `pd.set_option('future.no_silent_downcasting', True)`\n",
      "  df=df.replace({\"Var_1\":{'Cat_1':0,'Cat_2':1,'Cat_3':2,'Cat_4':3,'Cat_5':4,'Cat_6':5,'Cat_7':6}})\n",
      "/var/folders/nq/pf4848v92qq76wvlqb4x38j40000gn/T/ipykernel_74243/3778069133.py:14: FutureWarning: Downcasting behavior in `replace` is deprecated and will be removed in a future version. To retain the old behavior, explicitly call `result.infer_objects(copy=False)`. To opt-in to the future behavior, set `pd.set_option('future.no_silent_downcasting', True)`\n",
      "  df=df.replace({\"Segmentation\":{'A':0,'B':1,'C':2,'D':3}})\n"
     ]
    },
    {
     "data": {
      "text/html": [
       "<div>\n",
       "<style scoped>\n",
       "    .dataframe tbody tr th:only-of-type {\n",
       "        vertical-align: middle;\n",
       "    }\n",
       "\n",
       "    .dataframe tbody tr th {\n",
       "        vertical-align: top;\n",
       "    }\n",
       "\n",
       "    .dataframe thead th {\n",
       "        text-align: right;\n",
       "    }\n",
       "</style>\n",
       "<table border=\"1\" class=\"dataframe\">\n",
       "  <thead>\n",
       "    <tr style=\"text-align: right;\">\n",
       "      <th></th>\n",
       "      <th>ID</th>\n",
       "      <th>Gender</th>\n",
       "      <th>Ever_Married</th>\n",
       "      <th>Age</th>\n",
       "      <th>Graduated</th>\n",
       "      <th>Profession</th>\n",
       "      <th>Work_Experience</th>\n",
       "      <th>Spending_Score</th>\n",
       "      <th>Family_Size</th>\n",
       "      <th>Var_1</th>\n",
       "      <th>Segmentation</th>\n",
       "    </tr>\n",
       "  </thead>\n",
       "  <tbody>\n",
       "    <tr>\n",
       "      <th>0</th>\n",
       "      <td>462809</td>\n",
       "      <td>0</td>\n",
       "      <td>0.0</td>\n",
       "      <td>22</td>\n",
       "      <td>0.0</td>\n",
       "      <td>0.0</td>\n",
       "      <td>1.0</td>\n",
       "      <td>0</td>\n",
       "      <td>4.0</td>\n",
       "      <td>3.0</td>\n",
       "      <td>3</td>\n",
       "    </tr>\n",
       "    <tr>\n",
       "      <th>1</th>\n",
       "      <td>462643</td>\n",
       "      <td>1</td>\n",
       "      <td>1.0</td>\n",
       "      <td>38</td>\n",
       "      <td>1.0</td>\n",
       "      <td>1.0</td>\n",
       "      <td>NaN</td>\n",
       "      <td>1</td>\n",
       "      <td>3.0</td>\n",
       "      <td>3.0</td>\n",
       "      <td>0</td>\n",
       "    </tr>\n",
       "    <tr>\n",
       "      <th>2</th>\n",
       "      <td>466315</td>\n",
       "      <td>1</td>\n",
       "      <td>1.0</td>\n",
       "      <td>67</td>\n",
       "      <td>1.0</td>\n",
       "      <td>1.0</td>\n",
       "      <td>1.0</td>\n",
       "      <td>0</td>\n",
       "      <td>1.0</td>\n",
       "      <td>5.0</td>\n",
       "      <td>1</td>\n",
       "    </tr>\n",
       "    <tr>\n",
       "      <th>3</th>\n",
       "      <td>461735</td>\n",
       "      <td>0</td>\n",
       "      <td>1.0</td>\n",
       "      <td>67</td>\n",
       "      <td>1.0</td>\n",
       "      <td>2.0</td>\n",
       "      <td>0.0</td>\n",
       "      <td>2</td>\n",
       "      <td>2.0</td>\n",
       "      <td>5.0</td>\n",
       "      <td>1</td>\n",
       "    </tr>\n",
       "    <tr>\n",
       "      <th>4</th>\n",
       "      <td>462669</td>\n",
       "      <td>1</td>\n",
       "      <td>1.0</td>\n",
       "      <td>40</td>\n",
       "      <td>1.0</td>\n",
       "      <td>3.0</td>\n",
       "      <td>NaN</td>\n",
       "      <td>2</td>\n",
       "      <td>6.0</td>\n",
       "      <td>5.0</td>\n",
       "      <td>0</td>\n",
       "    </tr>\n",
       "  </tbody>\n",
       "</table>\n",
       "</div>"
      ],
      "text/plain": [
       "       ID  Gender  Ever_Married  Age  Graduated  Profession  Work_Experience  \\\n",
       "0  462809       0           0.0   22        0.0         0.0              1.0   \n",
       "1  462643       1           1.0   38        1.0         1.0              NaN   \n",
       "2  466315       1           1.0   67        1.0         1.0              1.0   \n",
       "3  461735       0           1.0   67        1.0         2.0              0.0   \n",
       "4  462669       1           1.0   40        1.0         3.0              NaN   \n",
       "\n",
       "   Spending_Score  Family_Size  Var_1  Segmentation  \n",
       "0               0          4.0    3.0             3  \n",
       "1               1          3.0    3.0             0  \n",
       "2               0          1.0    5.0             1  \n",
       "3               2          2.0    5.0             1  \n",
       "4               2          6.0    5.0             0  "
      ]
     },
     "execution_count": 176,
     "metadata": {},
     "output_type": "execute_result"
    }
   ],
   "source": [
    "#Genderで男性を０、女性を１に変換\n",
    "#Ever_MarriedでYesを１、Noを０に変換\n",
    "#Graduated(大学卒業に関して)yesは１、Noは０に変換\n",
    "#Profession(職業)を数値に変換\n",
    "#Spending_Scoreを数値に変換\n",
    "#Var_1を数値に変換\n",
    "#Segmentationを数値に変換\n",
    "df=df.replace({\"Gender\":{'Male':0,'Female':1}})\n",
    "df=df.replace({\"Ever_Married\":{'Yes':1,'No':0}})\n",
    "df=df.replace({\"Graduated\":{'Yes':1,'No':0}})\n",
    "df=df.replace({\"Profession\":{'Healthcare':0,'Engineer':1,'Lawyer':2,'Entertainment':3,'Artist':4,'Executive':5,'Doctor':6,'Homemaker':7,'Marketing':8}})\n",
    "df=df.replace({\"Spending_Score\":{'Low':0,'Average':1,'High':2}})\n",
    "df=df.replace({\"Var_1\":{'Cat_1':0,'Cat_2':1,'Cat_3':2,'Cat_4':3,'Cat_5':4,'Cat_6':5,'Cat_7':6}})\n",
    "df=df.replace({\"Segmentation\":{'A':0,'B':1,'C':2,'D':3}})\n",
    "df.head()"
   ]
  },
  {
   "cell_type": "code",
   "execution_count": 177,
   "metadata": {},
   "outputs": [
    {
     "data": {
      "text/plain": [
       "ID                 0\n",
       "Gender             0\n",
       "Ever_Married       0\n",
       "Age                0\n",
       "Graduated          0\n",
       "Profession         0\n",
       "Work_Experience    0\n",
       "Spending_Score     0\n",
       "Family_Size        0\n",
       "Var_1              0\n",
       "Segmentation       0\n",
       "dtype: int64"
      ]
     },
     "execution_count": 177,
     "metadata": {},
     "output_type": "execute_result"
    }
   ],
   "source": [
    "df=df.dropna()\n",
    "#欠損値の再確認\n",
    "df.isnull().sum()"
   ]
  },
  {
   "cell_type": "code",
   "execution_count": 178,
   "metadata": {},
   "outputs": [],
   "source": [
    "from sklearn.preprocessing import StandardScaler\n",
    "scaler = StandardScaler()\n",
    "\n",
    "## Ageを標準化\n",
    "df['Age'] = scaler.fit_transform(df[['Age']])\n",
    "df['Work_Experience'] = scaler.fit_transform(df[['Work_Experience']])\n",
    "df=df.drop('ID',axis=1)\n"
   ]
  },
  {
   "cell_type": "code",
   "execution_count": 179,
   "metadata": {},
   "outputs": [
    {
     "name": "stdout",
     "output_type": "stream",
     "text": [
      "   Gender  Ever_Married       Age  Graduated  Profession  Work_Experience  \\\n",
      "0       0           0.0 -1.303415        0.0         0.0        -0.478430   \n",
      "2       1           1.0  1.420092        1.0         1.0        -0.478430   \n",
      "3       0           1.0  1.420092        1.0         2.0        -0.772106   \n",
      "5       0           1.0  0.754346        0.0         4.0        -0.772106   \n",
      "6       0           0.0 -0.698191        1.0         0.0        -0.478430   \n",
      "\n",
      "   Spending_Score  Family_Size  Var_1  Segmentation  \n",
      "0               0          4.0    3.0             3  \n",
      "2               0          1.0    5.0             1  \n",
      "3               2          2.0    5.0             1  \n",
      "5               1          2.0    5.0             2  \n",
      "6               0          3.0    5.0             2  \n"
     ]
    }
   ],
   "source": [
    "print(df.head())"
   ]
  },
  {
   "cell_type": "code",
   "execution_count": 180,
   "metadata": {},
   "outputs": [],
   "source": [
    "from sklearn.model_selection import train_test_split\n",
    "\n",
    "X=df.drop('Segmentation',axis=1)\n",
    "y=df['Segmentation']\n",
    "X_train,X_test,y_train,y_test=train_test_split(X,y,test_size=0.25,random_state=0)"
   ]
  },
  {
   "cell_type": "code",
   "execution_count": 181,
   "metadata": {},
   "outputs": [],
   "source": [
    "df = df.drop(columns = ['Spending_Score','Graduated', 'Ever_Married'])"
   ]
  },
  {
   "cell_type": "code",
   "execution_count": 182,
   "metadata": {},
   "outputs": [
    {
     "name": "stdout",
     "output_type": "stream",
     "text": [
      "   Gender       Age  Profession  Work_Experience  Family_Size  Var_1  \\\n",
      "0       0 -1.303415         0.0        -0.478430          4.0    3.0   \n",
      "2       1  1.420092         1.0        -0.478430          1.0    5.0   \n",
      "3       0  1.420092         2.0        -0.772106          2.0    5.0   \n",
      "5       0  0.754346         4.0        -0.772106          2.0    5.0   \n",
      "6       0 -0.698191         0.0        -0.478430          3.0    5.0   \n",
      "\n",
      "   Segmentation  \n",
      "0             3  \n",
      "2             1  \n",
      "3             1  \n",
      "5             2  \n",
      "6             2  \n"
     ]
    }
   ],
   "source": [
    "print(df.head())"
   ]
  },
  {
   "cell_type": "code",
   "execution_count": 183,
   "metadata": {},
   "outputs": [
    {
     "name": "stdout",
     "output_type": "stream",
     "text": [
      "           Feature  Importance\n",
      "4      Family_Size    0.256799\n",
      "1              Age    0.158319\n",
      "3  Work_Experience    0.078726\n",
      "2       Profession    0.022330\n",
      "5            Var_1    0.022330\n",
      "0           Gender    0.011165\n"
     ]
    }
   ],
   "source": [
    "import pandas as pd\n",
    "import numpy as np\n",
    "from sklearn.model_selection import train_test_split\n",
    "from sklearn.linear_model import SGDClassifier\n",
    "\n",
    "# dfはあなたのDataFrame\n",
    "# 最後の列がターゲット（目的変数）、それ以外が特徴量\n",
    "X = df.iloc[:, :-1]  # 特徴量\n",
    "y = df.iloc[:, -1]   # ターゲット\n",
    "\n",
    "# 訓練データとテストデータに分割\n",
    "X_train, X_test, y_train, y_test = train_test_split(X, y, test_size=0.25, random_state=42)\n",
    "\n",
    "# SGDClassifierのインスタンスを作成して学習\n",
    "clf = SGDClassifier(random_state=42)\n",
    "clf.fit(X_train, y_train)\n",
    "# 特徴量の重みを取得 (SGDClassifierの場合)\n",
    "importance = np.abs(clf.coef_[0])  # 係数の絶対値\n",
    "\n",
    "# 特徴量名を取得\n",
    "feature_names = X.columns  # Xは特徴量のDataFrameの場合\n",
    "\n",
    "# 重要度と特徴量名を結びつける\n",
    "feature_importances = pd.DataFrame({'Feature': feature_names, 'Importance': importance  })\n",
    "\n",
    "# 重要度順に並べ替え\n",
    "sorted_feature_importances = feature_importances.sort_values(by='Importance', ascending=False)\n",
    "\n",
    "\n",
    "# 並べ替えた結果を表示\n",
    "print(sorted_feature_importances)\n"
   ]
  },
  {
   "cell_type": "code",
   "execution_count": 184,
   "metadata": {},
   "outputs": [
    {
     "name": "stdout",
     "output_type": "stream",
     "text": [
      "正答率(訓練) =  0.9207683073229291\n",
      "正答率(テスト) =  0.4505098980203959\n"
     ]
    }
   ],
   "source": [
    "from sklearn.ensemble import RandomForestClassifier\n",
    "\n",
    "# ランダムフォレストモデルを作成\n",
    "clf = RandomForestClassifier(n_estimators=100, max_depth=None, random_state=42)\n",
    "\n",
    "# モデルの訓練\n",
    "clf.fit(X_train, y_train)\n",
    "\n",
    "# 訓練データに対する正答率\n",
    "print(\"正答率(訓練) = \", clf.score(X_train, y_train))\n",
    "\n",
    "# テストデータに対する正答率\n",
    "print(\"正答率(テスト) = \", clf.score(X_test, y_test))\n"
   ]
  },
  {
   "cell_type": "code",
   "execution_count": 185,
   "metadata": {},
   "outputs": [
    {
     "name": "stdout",
     "output_type": "stream",
     "text": [
      "正答率(訓練) =  0.9207683073229291\n",
      "正答率(テスト) =  0.4505098980203959\n"
     ]
    }
   ],
   "source": [
    "from sklearn.ensemble import RandomForestClassifier\n",
    "\n",
    "# ランダムフォレストモデルを作成\n",
    "clf = RandomForestClassifier(n_estimators=100, max_depth=None, random_state=42)\n",
    "\n",
    "# モデルの訓練\n",
    "clf.fit(X_train, y_train)\n",
    "\n",
    "# 訓練データに対する正答率\n",
    "print(\"正答率(訓練) = \", clf.score(X_train, y_train))\n",
    "\n",
    "# テストデータに対する正答率\n",
    "print(\"正答率(テスト) = \", clf.score(X_test, y_test))"
   ]
  },
  {
   "cell_type": "code",
   "execution_count": 186,
   "metadata": {},
   "outputs": [
    {
     "name": "stdout",
     "output_type": "stream",
     "text": [
      "正答率(訓練) =  0.43137254901960786\n",
      "正解(テスト) 0.4283143371325735\n"
     ]
    }
   ],
   "source": [
    "from sklearn.svm import SVC\n",
    "clf = SVC(kernel='linear', C=1.5)##cの値をうまく調整することによってやる。\n",
    "clf.fit(X_train,y_train)\n",
    "print(\"正答率(訓練) = \",clf.score(X_train,y_train))\n",
    "print(\"正解(テスト)\", clf.score(X_test,y_test))"
   ]
  },
  {
   "cell_type": "code",
   "execution_count": 187,
   "metadata": {},
   "outputs": [
    {
     "name": "stdout",
     "output_type": "stream",
     "text": [
      "正答率(訓練) =  0.3457382953181273\n",
      "正解(テスト) 0.33473305338932213\n"
     ]
    }
   ],
   "source": [
    "from sklearn import linear_model\n",
    "clf=linear_model.SGDClassifier(loss='hinge',penalty='l2',alpha=0.0001)\n",
    "clf.fit(X_train,y_train)\n",
    "print(\"正答率(訓練) = \",clf.score(X_train,y_train))\n",
    "print(\"正解(テスト)\", clf.score(X_test,y_test))"
   ]
  },
  {
   "cell_type": "markdown",
   "metadata": {},
   "source": []
  },
  {
   "cell_type": "code",
   "execution_count": 188,
   "metadata": {},
   "outputs": [
    {
     "name": "stdout",
     "output_type": "stream",
     "text": [
      "正答率(訓練) =  0.484593837535014\n",
      "正解(テスト) 0.4595080983803239\n"
     ]
    }
   ],
   "source": [
    "from sklearn.neighbors import KNeighborsClassifier ## KNeighborsClassifierの機械学習を行う\n",
    "clf=KNeighborsClassifier(n_neighbors=200)\n",
    "clf.fit(X_train,y_train)\n",
    "print(\"正答率(訓練) = \",clf.score(X_train,y_train))\n",
    "print(\"正解(テスト)\", clf.score(X_test,y_test))"
   ]
  }
 ],
 "metadata": {
  "kernelspec": {
   "display_name": ".venv",
   "language": "python",
   "name": "python3"
  },
  "language_info": {
   "codemirror_mode": {
    "name": "ipython",
    "version": 3
   },
   "file_extension": ".py",
   "mimetype": "text/x-python",
   "name": "python",
   "nbconvert_exporter": "python",
   "pygments_lexer": "ipython3",
   "version": "3.10.1"
  }
 },
 "nbformat": 4,
 "nbformat_minor": 2
}
