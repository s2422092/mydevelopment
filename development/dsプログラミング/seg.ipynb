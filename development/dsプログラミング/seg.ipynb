{
 "cells": [
  {
   "cell_type": "markdown",
   "metadata": {},
   "source": [
    "## モジュールのインポート"
   ]
  },
  {
   "cell_type": "code",
   "execution_count": 431,
   "metadata": {},
   "outputs": [],
   "source": [
    "import numpy as np\n",
    "import pandas as pd\n",
    "from sklearn.preprocessing import StandardScaler\n",
    "from sklearn.model_selection import train_test_split"
   ]
  },
  {
   "cell_type": "markdown",
   "metadata": {},
   "source": [
    "## データの読み込み"
   ]
  },
  {
   "cell_type": "code",
   "execution_count": 432,
   "metadata": {},
   "outputs": [],
   "source": [
    "train=pd.read_csv('/Users/yugo_suzuki/mydevelopment/development/dsプログラミング/Train.csv')\n",
    "test=pd.read_csv('/Users/yugo_suzuki/mydevelopment/development/dsプログラミング/Test.csv')"
   ]
  },
  {
   "cell_type": "markdown",
   "metadata": {},
   "source": [
    "##  それぞれの欠損値の確認"
   ]
  },
  {
   "cell_type": "code",
   "execution_count": 433,
   "metadata": {},
   "outputs": [
    {
     "data": {
      "text/plain": [
       "ID                   0\n",
       "Gender               0\n",
       "Ever_Married       140\n",
       "Age                  0\n",
       "Graduated           78\n",
       "Profession         124\n",
       "Work_Experience    829\n",
       "Spending_Score       0\n",
       "Family_Size        335\n",
       "Var_1               76\n",
       "Segmentation         0\n",
       "dtype: int64"
      ]
     },
     "execution_count": 433,
     "metadata": {},
     "output_type": "execute_result"
    }
   ],
   "source": [
    "train.isnull().sum()"
   ]
  },
  {
   "cell_type": "code",
   "execution_count": 434,
   "metadata": {},
   "outputs": [
    {
     "data": {
      "text/plain": [
       "ID                   0\n",
       "Gender               0\n",
       "Ever_Married        50\n",
       "Age                  0\n",
       "Graduated           24\n",
       "Profession          38\n",
       "Work_Experience    269\n",
       "Spending_Score       0\n",
       "Family_Size        113\n",
       "Var_1               32\n",
       "Segmentation         0\n",
       "dtype: int64"
      ]
     },
     "execution_count": 434,
     "metadata": {},
     "output_type": "execute_result"
    }
   ],
   "source": [
    "test.isnull().sum()"
   ]
  },
  {
   "cell_type": "markdown",
   "metadata": {},
   "source": [
    "## 欠損値の削除"
   ]
  },
  {
   "cell_type": "code",
   "execution_count": 435,
   "metadata": {},
   "outputs": [],
   "source": [
    "train.dropna(inplace=True)\n",
    "test.dropna(inplace=True)"
   ]
  },
  {
   "cell_type": "code",
   "execution_count": 436,
   "metadata": {},
   "outputs": [
    {
     "data": {
      "text/plain": [
       "ID                 0\n",
       "Gender             0\n",
       "Ever_Married       0\n",
       "Age                0\n",
       "Graduated          0\n",
       "Profession         0\n",
       "Work_Experience    0\n",
       "Spending_Score     0\n",
       "Family_Size        0\n",
       "Var_1              0\n",
       "Segmentation       0\n",
       "dtype: int64"
      ]
     },
     "execution_count": 436,
     "metadata": {},
     "output_type": "execute_result"
    }
   ],
   "source": [
    "train.isnull().sum()"
   ]
  },
  {
   "cell_type": "code",
   "execution_count": 437,
   "metadata": {},
   "outputs": [
    {
     "data": {
      "text/plain": [
       "ID                 0\n",
       "Gender             0\n",
       "Ever_Married       0\n",
       "Age                0\n",
       "Graduated          0\n",
       "Profession         0\n",
       "Work_Experience    0\n",
       "Spending_Score     0\n",
       "Family_Size        0\n",
       "Var_1              0\n",
       "Segmentation       0\n",
       "dtype: int64"
      ]
     },
     "execution_count": 437,
     "metadata": {},
     "output_type": "execute_result"
    }
   ],
   "source": [
    "test.isnull().sum()"
   ]
  },
  {
   "cell_type": "markdown",
   "metadata": {},
   "source": [
    "## IDの削除"
   ]
  },
  {
   "cell_type": "code",
   "execution_count": 438,
   "metadata": {},
   "outputs": [],
   "source": [
    "train = train.drop(['ID'], axis=1)\n",
    "test = test.drop(['ID'], axis=1)"
   ]
  },
  {
   "cell_type": "markdown",
   "metadata": {},
   "source": [
    "## データタイプの確認"
   ]
  },
  {
   "cell_type": "code",
   "execution_count": 439,
   "metadata": {},
   "outputs": [
    {
     "name": "stdout",
     "output_type": "stream",
     "text": [
      "Gender              object\n",
      "Ever_Married        object\n",
      "Age                  int64\n",
      "Graduated           object\n",
      "Profession          object\n",
      "Work_Experience    float64\n",
      "Spending_Score      object\n",
      "Family_Size        float64\n",
      "Var_1               object\n",
      "Segmentation        object\n",
      "dtype: object\n"
     ]
    }
   ],
   "source": [
    "train.dtypes\n",
    "print(train.dtypes)"
   ]
  },
  {
   "cell_type": "code",
   "execution_count": 440,
   "metadata": {},
   "outputs": [
    {
     "name": "stdout",
     "output_type": "stream",
     "text": [
      "Gender              object\n",
      "Ever_Married        object\n",
      "Age                  int64\n",
      "Graduated           object\n",
      "Profession          object\n",
      "Work_Experience    float64\n",
      "Spending_Score      object\n",
      "Family_Size        float64\n",
      "Var_1               object\n",
      "Segmentation        object\n",
      "dtype: object\n"
     ]
    }
   ],
   "source": [
    "test.dtypes\n",
    "print(test.dtypes)"
   ]
  },
  {
   "cell_type": "markdown",
   "metadata": {},
   "source": [
    "## カラムの確認と置き換え"
   ]
  },
  {
   "cell_type": "code",
   "execution_count": 441,
   "metadata": {},
   "outputs": [
    {
     "name": "stdout",
     "output_type": "stream",
     "text": [
      "['Male' 'Female']\n",
      "['No' 'Yes']\n",
      "['No' 'Yes']\n",
      "['Healthcare' 'Engineer' 'Lawyer' 'Artist' 'Doctor' 'Homemaker'\n",
      " 'Entertainment' 'Marketing' 'Executive']\n",
      "['Low' 'High' 'Average']\n",
      "['Cat_4' 'Cat_6' 'Cat_7' 'Cat_3' 'Cat_1' 'Cat_2' 'Cat_5']\n",
      "['D' 'B' 'C' 'A']\n"
     ]
    }
   ],
   "source": [
    "print(train[\"Gender\"].unique())\n",
    "print(train[\"Ever_Married\"].unique())\n",
    "print(train[\"Graduated\"].unique())\n",
    "print(train[\"Profession\"].unique())\n",
    "print(train[\"Spending_Score\"].unique())\n",
    "print(train[\"Var_1\"].unique())\n",
    "print(train[\"Segmentation\"].unique())"
   ]
  },
  {
   "cell_type": "code",
   "execution_count": 442,
   "metadata": {},
   "outputs": [
    {
     "name": "stderr",
     "output_type": "stream",
     "text": [
      "/var/folders/nq/pf4848v92qq76wvlqb4x38j40000gn/T/ipykernel_52838/1620184519.py:1: FutureWarning: Downcasting behavior in `replace` is deprecated and will be removed in a future version. To retain the old behavior, explicitly call `result.infer_objects(copy=False)`. To opt-in to the future behavior, set `pd.set_option('future.no_silent_downcasting', True)`\n",
      "  train = train.replace({\"Gender\":{'Male':0,'Female':1}})\n",
      "/var/folders/nq/pf4848v92qq76wvlqb4x38j40000gn/T/ipykernel_52838/1620184519.py:2: FutureWarning: Downcasting behavior in `replace` is deprecated and will be removed in a future version. To retain the old behavior, explicitly call `result.infer_objects(copy=False)`. To opt-in to the future behavior, set `pd.set_option('future.no_silent_downcasting', True)`\n",
      "  train = train.replace({\"Ever_Married\":{'No':0,'Yes':1}})\n",
      "/var/folders/nq/pf4848v92qq76wvlqb4x38j40000gn/T/ipykernel_52838/1620184519.py:3: FutureWarning: Downcasting behavior in `replace` is deprecated and will be removed in a future version. To retain the old behavior, explicitly call `result.infer_objects(copy=False)`. To opt-in to the future behavior, set `pd.set_option('future.no_silent_downcasting', True)`\n",
      "  train = train.replace({\"Graduated\":{'No':0,'Yes':1}})\n",
      "/var/folders/nq/pf4848v92qq76wvlqb4x38j40000gn/T/ipykernel_52838/1620184519.py:4: FutureWarning: Downcasting behavior in `replace` is deprecated and will be removed in a future version. To retain the old behavior, explicitly call `result.infer_objects(copy=False)`. To opt-in to the future behavior, set `pd.set_option('future.no_silent_downcasting', True)`\n",
      "  train = train.replace({\"Profession\":{'Healthcare':0,'Engineer':1,'Lawyer':2,'Entertainment':3,'Artist':4,'Executive':5,'Doctor':6,'Homemaker':7,'Marketing':8}})\n",
      "/var/folders/nq/pf4848v92qq76wvlqb4x38j40000gn/T/ipykernel_52838/1620184519.py:5: FutureWarning: Downcasting behavior in `replace` is deprecated and will be removed in a future version. To retain the old behavior, explicitly call `result.infer_objects(copy=False)`. To opt-in to the future behavior, set `pd.set_option('future.no_silent_downcasting', True)`\n",
      "  train = train.replace({\"Spending_Score\":{'Low':0,'Average':1,'High':2}})\n",
      "/var/folders/nq/pf4848v92qq76wvlqb4x38j40000gn/T/ipykernel_52838/1620184519.py:6: FutureWarning: Downcasting behavior in `replace` is deprecated and will be removed in a future version. To retain the old behavior, explicitly call `result.infer_objects(copy=False)`. To opt-in to the future behavior, set `pd.set_option('future.no_silent_downcasting', True)`\n",
      "  train = train.replace({\"Var_1\":{'Cat_1':0,'Cat_2':1,'Cat_3':2,'Cat_4':3,'Cat_5':4,'Cat_6':5,'Cat_7':6}})\n",
      "/var/folders/nq/pf4848v92qq76wvlqb4x38j40000gn/T/ipykernel_52838/1620184519.py:7: FutureWarning: Downcasting behavior in `replace` is deprecated and will be removed in a future version. To retain the old behavior, explicitly call `result.infer_objects(copy=False)`. To opt-in to the future behavior, set `pd.set_option('future.no_silent_downcasting', True)`\n",
      "  train = train.replace({\"Segmentation\":{'A':0,'B':1,'C':2,'D':3}})\n"
     ]
    },
    {
     "data": {
      "text/html": [
       "<div>\n",
       "<style scoped>\n",
       "    .dataframe tbody tr th:only-of-type {\n",
       "        vertical-align: middle;\n",
       "    }\n",
       "\n",
       "    .dataframe tbody tr th {\n",
       "        vertical-align: top;\n",
       "    }\n",
       "\n",
       "    .dataframe thead th {\n",
       "        text-align: right;\n",
       "    }\n",
       "</style>\n",
       "<table border=\"1\" class=\"dataframe\">\n",
       "  <thead>\n",
       "    <tr style=\"text-align: right;\">\n",
       "      <th></th>\n",
       "      <th>Gender</th>\n",
       "      <th>Ever_Married</th>\n",
       "      <th>Age</th>\n",
       "      <th>Graduated</th>\n",
       "      <th>Profession</th>\n",
       "      <th>Work_Experience</th>\n",
       "      <th>Spending_Score</th>\n",
       "      <th>Family_Size</th>\n",
       "      <th>Var_1</th>\n",
       "      <th>Segmentation</th>\n",
       "    </tr>\n",
       "  </thead>\n",
       "  <tbody>\n",
       "    <tr>\n",
       "      <th>0</th>\n",
       "      <td>0</td>\n",
       "      <td>0</td>\n",
       "      <td>22</td>\n",
       "      <td>0</td>\n",
       "      <td>0</td>\n",
       "      <td>1.0</td>\n",
       "      <td>0</td>\n",
       "      <td>4.0</td>\n",
       "      <td>3</td>\n",
       "      <td>3</td>\n",
       "    </tr>\n",
       "    <tr>\n",
       "      <th>2</th>\n",
       "      <td>1</td>\n",
       "      <td>1</td>\n",
       "      <td>67</td>\n",
       "      <td>1</td>\n",
       "      <td>1</td>\n",
       "      <td>1.0</td>\n",
       "      <td>0</td>\n",
       "      <td>1.0</td>\n",
       "      <td>5</td>\n",
       "      <td>1</td>\n",
       "    </tr>\n",
       "    <tr>\n",
       "      <th>3</th>\n",
       "      <td>0</td>\n",
       "      <td>1</td>\n",
       "      <td>67</td>\n",
       "      <td>1</td>\n",
       "      <td>2</td>\n",
       "      <td>0.0</td>\n",
       "      <td>2</td>\n",
       "      <td>2.0</td>\n",
       "      <td>5</td>\n",
       "      <td>1</td>\n",
       "    </tr>\n",
       "    <tr>\n",
       "      <th>5</th>\n",
       "      <td>0</td>\n",
       "      <td>1</td>\n",
       "      <td>56</td>\n",
       "      <td>0</td>\n",
       "      <td>4</td>\n",
       "      <td>0.0</td>\n",
       "      <td>1</td>\n",
       "      <td>2.0</td>\n",
       "      <td>5</td>\n",
       "      <td>2</td>\n",
       "    </tr>\n",
       "    <tr>\n",
       "      <th>6</th>\n",
       "      <td>0</td>\n",
       "      <td>0</td>\n",
       "      <td>32</td>\n",
       "      <td>1</td>\n",
       "      <td>0</td>\n",
       "      <td>1.0</td>\n",
       "      <td>0</td>\n",
       "      <td>3.0</td>\n",
       "      <td>5</td>\n",
       "      <td>2</td>\n",
       "    </tr>\n",
       "  </tbody>\n",
       "</table>\n",
       "</div>"
      ],
      "text/plain": [
       "   Gender  Ever_Married  Age  Graduated  Profession  Work_Experience  \\\n",
       "0       0             0   22          0           0              1.0   \n",
       "2       1             1   67          1           1              1.0   \n",
       "3       0             1   67          1           2              0.0   \n",
       "5       0             1   56          0           4              0.0   \n",
       "6       0             0   32          1           0              1.0   \n",
       "\n",
       "   Spending_Score  Family_Size  Var_1  Segmentation  \n",
       "0               0          4.0      3             3  \n",
       "2               0          1.0      5             1  \n",
       "3               2          2.0      5             1  \n",
       "5               1          2.0      5             2  \n",
       "6               0          3.0      5             2  "
      ]
     },
     "execution_count": 442,
     "metadata": {},
     "output_type": "execute_result"
    }
   ],
   "source": [
    "train = train.replace({\"Gender\":{'Male':0,'Female':1}})\n",
    "train = train.replace({\"Ever_Married\":{'No':0,'Yes':1}})\n",
    "train = train.replace({\"Graduated\":{'No':0,'Yes':1}})\n",
    "train = train.replace({\"Profession\":{'Healthcare':0,'Engineer':1,'Lawyer':2,'Entertainment':3,'Artist':4,'Executive':5,'Doctor':6,'Homemaker':7,'Marketing':8}})\n",
    "train = train.replace({\"Spending_Score\":{'Low':0,'Average':1,'High':2}})\n",
    "train = train.replace({\"Var_1\":{'Cat_1':0,'Cat_2':1,'Cat_3':2,'Cat_4':3,'Cat_5':4,'Cat_6':5,'Cat_7':6}})\n",
    "train = train.replace({\"Segmentation\":{'A':0,'B':1,'C':2,'D':3}})\n",
    "train.head()"
   ]
  },
  {
   "cell_type": "code",
   "execution_count": 443,
   "metadata": {},
   "outputs": [
    {
     "name": "stderr",
     "output_type": "stream",
     "text": [
      "/var/folders/nq/pf4848v92qq76wvlqb4x38j40000gn/T/ipykernel_52838/920515875.py:1: FutureWarning: Downcasting behavior in `replace` is deprecated and will be removed in a future version. To retain the old behavior, explicitly call `result.infer_objects(copy=False)`. To opt-in to the future behavior, set `pd.set_option('future.no_silent_downcasting', True)`\n",
      "  test = test.replace({\"Gender\":{'Male':0,'Female':1}})\n",
      "/var/folders/nq/pf4848v92qq76wvlqb4x38j40000gn/T/ipykernel_52838/920515875.py:2: FutureWarning: Downcasting behavior in `replace` is deprecated and will be removed in a future version. To retain the old behavior, explicitly call `result.infer_objects(copy=False)`. To opt-in to the future behavior, set `pd.set_option('future.no_silent_downcasting', True)`\n",
      "  test = test.replace({\"Ever_Married\":{'No':0,'Yes':1}})\n",
      "/var/folders/nq/pf4848v92qq76wvlqb4x38j40000gn/T/ipykernel_52838/920515875.py:3: FutureWarning: Downcasting behavior in `replace` is deprecated and will be removed in a future version. To retain the old behavior, explicitly call `result.infer_objects(copy=False)`. To opt-in to the future behavior, set `pd.set_option('future.no_silent_downcasting', True)`\n",
      "  test = test.replace({\"Graduated\":{'No':0,'Yes':1}})\n",
      "/var/folders/nq/pf4848v92qq76wvlqb4x38j40000gn/T/ipykernel_52838/920515875.py:4: FutureWarning: Downcasting behavior in `replace` is deprecated and will be removed in a future version. To retain the old behavior, explicitly call `result.infer_objects(copy=False)`. To opt-in to the future behavior, set `pd.set_option('future.no_silent_downcasting', True)`\n",
      "  test = test.replace({\"Profession\":{'Healthcare':0,'Engineer':1,'Lawyer':2,'Entertainment':3,'Artist':4,'Executive':5,'Doctor':6,'Homemaker':7,'Marketing':8}})\n",
      "/var/folders/nq/pf4848v92qq76wvlqb4x38j40000gn/T/ipykernel_52838/920515875.py:5: FutureWarning: Downcasting behavior in `replace` is deprecated and will be removed in a future version. To retain the old behavior, explicitly call `result.infer_objects(copy=False)`. To opt-in to the future behavior, set `pd.set_option('future.no_silent_downcasting', True)`\n",
      "  test = test.replace({\"Spending_Score\":{'Low':0,'Average':1,'High':2}})\n",
      "/var/folders/nq/pf4848v92qq76wvlqb4x38j40000gn/T/ipykernel_52838/920515875.py:6: FutureWarning: Downcasting behavior in `replace` is deprecated and will be removed in a future version. To retain the old behavior, explicitly call `result.infer_objects(copy=False)`. To opt-in to the future behavior, set `pd.set_option('future.no_silent_downcasting', True)`\n",
      "  test = test.replace({\"Var_1\":{'Cat_1':0,'Cat_2':1,'Cat_3':2,'Cat_4':3,'Cat_5':4,'Cat_6':5,'Cat_7':6}})\n",
      "/var/folders/nq/pf4848v92qq76wvlqb4x38j40000gn/T/ipykernel_52838/920515875.py:7: FutureWarning: Downcasting behavior in `replace` is deprecated and will be removed in a future version. To retain the old behavior, explicitly call `result.infer_objects(copy=False)`. To opt-in to the future behavior, set `pd.set_option('future.no_silent_downcasting', True)`\n",
      "  test = test.replace({\"Segmentation\":{'A':0,'B':1,'C':2,'D':3}})\n"
     ]
    },
    {
     "data": {
      "text/html": [
       "<div>\n",
       "<style scoped>\n",
       "    .dataframe tbody tr th:only-of-type {\n",
       "        vertical-align: middle;\n",
       "    }\n",
       "\n",
       "    .dataframe tbody tr th {\n",
       "        vertical-align: top;\n",
       "    }\n",
       "\n",
       "    .dataframe thead th {\n",
       "        text-align: right;\n",
       "    }\n",
       "</style>\n",
       "<table border=\"1\" class=\"dataframe\">\n",
       "  <thead>\n",
       "    <tr style=\"text-align: right;\">\n",
       "      <th></th>\n",
       "      <th>Gender</th>\n",
       "      <th>Ever_Married</th>\n",
       "      <th>Age</th>\n",
       "      <th>Graduated</th>\n",
       "      <th>Profession</th>\n",
       "      <th>Work_Experience</th>\n",
       "      <th>Spending_Score</th>\n",
       "      <th>Family_Size</th>\n",
       "      <th>Var_1</th>\n",
       "      <th>Segmentation</th>\n",
       "    </tr>\n",
       "  </thead>\n",
       "  <tbody>\n",
       "    <tr>\n",
       "      <th>0</th>\n",
       "      <td>1</td>\n",
       "      <td>1</td>\n",
       "      <td>36</td>\n",
       "      <td>1</td>\n",
       "      <td>1</td>\n",
       "      <td>0.0</td>\n",
       "      <td>0</td>\n",
       "      <td>1.0</td>\n",
       "      <td>5</td>\n",
       "      <td>1</td>\n",
       "    </tr>\n",
       "    <tr>\n",
       "      <th>1</th>\n",
       "      <td>0</td>\n",
       "      <td>1</td>\n",
       "      <td>37</td>\n",
       "      <td>1</td>\n",
       "      <td>0</td>\n",
       "      <td>8.0</td>\n",
       "      <td>1</td>\n",
       "      <td>4.0</td>\n",
       "      <td>5</td>\n",
       "      <td>0</td>\n",
       "    </tr>\n",
       "    <tr>\n",
       "      <th>3</th>\n",
       "      <td>0</td>\n",
       "      <td>1</td>\n",
       "      <td>59</td>\n",
       "      <td>0</td>\n",
       "      <td>5</td>\n",
       "      <td>11.0</td>\n",
       "      <td>2</td>\n",
       "      <td>2.0</td>\n",
       "      <td>5</td>\n",
       "      <td>1</td>\n",
       "    </tr>\n",
       "    <tr>\n",
       "      <th>5</th>\n",
       "      <td>0</td>\n",
       "      <td>1</td>\n",
       "      <td>47</td>\n",
       "      <td>1</td>\n",
       "      <td>6</td>\n",
       "      <td>0.0</td>\n",
       "      <td>2</td>\n",
       "      <td>5.0</td>\n",
       "      <td>3</td>\n",
       "      <td>2</td>\n",
       "    </tr>\n",
       "    <tr>\n",
       "      <th>6</th>\n",
       "      <td>0</td>\n",
       "      <td>1</td>\n",
       "      <td>61</td>\n",
       "      <td>1</td>\n",
       "      <td>6</td>\n",
       "      <td>5.0</td>\n",
       "      <td>0</td>\n",
       "      <td>3.0</td>\n",
       "      <td>5</td>\n",
       "      <td>3</td>\n",
       "    </tr>\n",
       "  </tbody>\n",
       "</table>\n",
       "</div>"
      ],
      "text/plain": [
       "   Gender  Ever_Married  Age  Graduated  Profession  Work_Experience  \\\n",
       "0       1             1   36          1           1              0.0   \n",
       "1       0             1   37          1           0              8.0   \n",
       "3       0             1   59          0           5             11.0   \n",
       "5       0             1   47          1           6              0.0   \n",
       "6       0             1   61          1           6              5.0   \n",
       "\n",
       "   Spending_Score  Family_Size  Var_1  Segmentation  \n",
       "0               0          1.0      5             1  \n",
       "1               1          4.0      5             0  \n",
       "3               2          2.0      5             1  \n",
       "5               2          5.0      3             2  \n",
       "6               0          3.0      5             3  "
      ]
     },
     "execution_count": 443,
     "metadata": {},
     "output_type": "execute_result"
    }
   ],
   "source": [
    "test = test.replace({\"Gender\":{'Male':0,'Female':1}})\n",
    "test = test.replace({\"Ever_Married\":{'No':0,'Yes':1}})\n",
    "test = test.replace({\"Graduated\":{'No':0,'Yes':1}})\n",
    "test = test.replace({\"Profession\":{'Healthcare':0,'Engineer':1,'Lawyer':2,'Entertainment':3,'Artist':4,'Executive':5,'Doctor':6,'Homemaker':7,'Marketing':8}})\n",
    "test = test.replace({\"Spending_Score\":{'Low':0,'Average':1,'High':2}})\n",
    "test = test.replace({\"Var_1\":{'Cat_1':0,'Cat_2':1,'Cat_3':2,'Cat_4':3,'Cat_5':4,'Cat_6':5,'Cat_7':6}})\n",
    "test = test.replace({\"Segmentation\":{'A':0,'B':1,'C':2,'D':3}})\n",
    "test.head() "
   ]
  },
  {
   "cell_type": "markdown",
   "metadata": {},
   "source": [
    "## 　標準化を実行する"
   ]
  },
  {
   "cell_type": "code",
   "execution_count": 444,
   "metadata": {},
   "outputs": [
    {
     "name": "stdout",
     "output_type": "stream",
     "text": [
      "   Gender  Ever_Married       Age  Graduated  Profession  Work_Experience  \\\n",
      "0       0             0 -1.303415          0           0        -0.478430   \n",
      "2       1             1  1.420092          1           1        -0.478430   \n",
      "3       0             1  1.420092          1           2        -0.772106   \n",
      "5       0             1  0.754346          0           4        -0.772106   \n",
      "6       0             0 -0.698191          1           0        -0.478430   \n",
      "\n",
      "   Spending_Score  Family_Size  Var_1  Segmentation  \n",
      "0               0          4.0      3             3  \n",
      "2               0          1.0      5             1  \n",
      "3               2          2.0      5             1  \n",
      "5               1          2.0      5             2  \n",
      "6               0          3.0      5             2  \n"
     ]
    }
   ],
   "source": [
    "scaler = StandardScaler()\n",
    "\n",
    "train['Age'] = scaler.fit_transform(train[['Age']])\n",
    "train['Work_Experience'] = scaler.fit_transform(train[['Work_Experience']])\n",
    "print(train.head())"
   ]
  },
  {
   "cell_type": "code",
   "execution_count": 445,
   "metadata": {},
   "outputs": [
    {
     "name": "stdout",
     "output_type": "stream",
     "text": [
      "   Gender  Ever_Married       Age  Graduated  Profession  Work_Experience  \\\n",
      "0       1             1 -0.445248          1           1        -0.762986   \n",
      "1       0             1 -0.385575          1           0         1.629258   \n",
      "3       0             1  0.927231          0           5         2.526349   \n",
      "5       0             1  0.211155          1           6        -0.762986   \n",
      "6       0             1  1.046577          1           6         0.732167   \n",
      "\n",
      "   Spending_Score  Family_Size  Var_1  Segmentation  \n",
      "0               0          1.0      5             1  \n",
      "1               1          4.0      5             0  \n",
      "3               2          2.0      5             1  \n",
      "5               2          5.0      3             2  \n",
      "6               0          3.0      5             3  \n"
     ]
    }
   ],
   "source": [
    "test['Age'] = scaler.fit_transform(test[['Age']])\n",
    "test['Work_Experience'] = scaler.fit_transform(test[['Work_Experience']])\n",
    "print(test.head())"
   ]
  },
  {
   "cell_type": "markdown",
   "metadata": {},
   "source": [
    "##  テータの中で、特徴量と目的変数を分ける"
   ]
  },
  {
   "cell_type": "markdown",
   "metadata": {},
   "source": [
    "###  訓練データ"
   ]
  },
  {
   "cell_type": "code",
   "execution_count": 446,
   "metadata": {},
   "outputs": [],
   "source": [
    "X_train=train.drop('Segmentation',axis=1)\n",
    "y_train=train['Segmentation']\n",
    "\n"
   ]
  },
  {
   "cell_type": "markdown",
   "metadata": {},
   "source": [
    "###  テストデータ"
   ]
  },
  {
   "cell_type": "code",
   "execution_count": 447,
   "metadata": {},
   "outputs": [],
   "source": [
    "X_test=test.drop('Segmentation',axis=1)\n",
    "y_test=test['Segmentation']\n"
   ]
  },
  {
   "cell_type": "markdown",
   "metadata": {},
   "source": [
    "##  モデルの使用"
   ]
  },
  {
   "cell_type": "markdown",
   "metadata": {},
   "source": [
    "### ランダムフォレスト"
   ]
  },
  {
   "cell_type": "code",
   "execution_count": 448,
   "metadata": {},
   "outputs": [
    {
     "name": "stdout",
     "output_type": "stream",
     "text": [
      "正答率(訓練) =  0.33240482822655526\n"
     ]
    }
   ],
   "source": [
    "from sklearn.ensemble import RandomForestClassifier\n",
    "\n",
    "# ランダムフォレストモデルを作成\n",
    "clf = RandomForestClassifier (n_estimators=300, random_state=46,max_depth=15, min_samples_leaf=10,bootstrap=1)\n",
    "\n",
    "# モデルの訓練\n",
    "clf.fit(X_train, y_train)\n",
    "\n",
    "# 訓練データに対する正答率\n",
    "print(\"正答率(訓練) = \", clf.score(X_test, y_test))"
   ]
  },
  {
   "cell_type": "markdown",
   "metadata": {},
   "source": [
    "###   ロジスティック回帰"
   ]
  },
  {
   "cell_type": "code",
   "execution_count": 449,
   "metadata": {},
   "outputs": [
    {
     "name": "stdout",
     "output_type": "stream",
     "text": [
      "正答率(訓練) =  0.33240482822655526\n"
     ]
    }
   ],
   "source": [
    "from sklearn.linear_model import LogisticRegression\n",
    "\n",
    "# ロジスティック回帰モデルの作成\n",
    "clf_logistic = LogisticRegression(random_state=46)\n",
    "\n",
    "# モデルの訓練\n",
    "clf.fit(X_train, y_train)\n",
    "\n",
    "# 訓練データに対する正答率\n",
    "print(\"正答率(訓練) = \", clf.score(X_test, y_test))\n"
   ]
  },
  {
   "cell_type": "markdown",
   "metadata": {},
   "source": [
    "###  勾配ブースティング"
   ]
  },
  {
   "cell_type": "code",
   "execution_count": 450,
   "metadata": {},
   "outputs": [
    {
     "name": "stdout",
     "output_type": "stream",
     "text": [
      "正答率(訓練) =  0.33240482822655526\n"
     ]
    }
   ],
   "source": [
    "from sklearn.ensemble import GradientBoostingClassifier\n",
    "\n",
    "# 勾配ブースティングモデルの作成\n",
    "clf_gb = GradientBoostingClassifier(n_estimators=300, random_state=46)\n",
    "\n",
    "# モデルの訓練\n",
    "clf.fit(X_train, y_train)\n",
    "\n",
    "# 訓練データに対する正答率\n",
    "print(\"正答率(訓練) = \", clf.score(X_test, y_test))\n"
   ]
  },
  {
   "cell_type": "markdown",
   "metadata": {},
   "source": [
    "###  サポートベクターマシン "
   ]
  },
  {
   "cell_type": "code",
   "execution_count": 451,
   "metadata": {},
   "outputs": [
    {
     "name": "stdout",
     "output_type": "stream",
     "text": [
      "正答率(SVM) =  0.33240482822655526\n"
     ]
    }
   ],
   "source": [
    "from sklearn.svm import SVC\n",
    "from sklearn.metrics import accuracy_score\n",
    "\n",
    "# サポートベクターマシンモデルの作成\n",
    "clf_svm = SVC(random_state=46)\n",
    "\n",
    "# モデルの訓練\n",
    "clf_svm.fit(X_train, y_train)\n",
    "\n",
    "# 訓練データに対する正答率\n",
    "y_pred = clf_svm.predict(X_test)\n",
    "print(\"正答率(SVM) = \", accuracy_score(y_test, y_pred))\n"
   ]
  },
  {
   "cell_type": "markdown",
   "metadata": {},
   "source": [
    "### k近傍法モデル"
   ]
  },
  {
   "cell_type": "code",
   "execution_count": 452,
   "metadata": {},
   "outputs": [
    {
     "name": "stdout",
     "output_type": "stream",
     "text": [
      "正答率(KNN) =  0.3022284122562674\n"
     ]
    }
   ],
   "source": [
    "from sklearn.neighbors import KNeighborsClassifier\n",
    "from sklearn.metrics import accuracy_score\n",
    "\n",
    "# k近傍法モデルの作成\n",
    "clf_knn = KNeighborsClassifier(n_neighbors=5)\n",
    "\n",
    "# モデルの訓練\n",
    "clf_knn.fit(X_train, y_train)\n",
    "\n",
    "# 訓練データに対する正答率\n",
    "y_pred = clf_knn.predict(X_test)\n",
    "print(\"正答率(KNN) = \", accuracy_score(y_test, y_pred))\n"
   ]
  },
  {
   "cell_type": "markdown",
   "metadata": {},
   "source": [
    "##  重要度の高い特徴量を選択する"
   ]
  },
  {
   "cell_type": "code",
   "execution_count": 453,
   "metadata": {},
   "outputs": [
    {
     "name": "stdout",
     "output_type": "stream",
     "text": [
      "           Feature  Importance\n",
      "2              Age    0.362030\n",
      "5  Work_Experience    0.154378\n",
      "4       Profession    0.142108\n",
      "7      Family_Size    0.108740\n",
      "8            Var_1    0.078697\n",
      "6   Spending_Score    0.052400\n",
      "0           Gender    0.037447\n",
      "3        Graduated    0.035587\n",
      "1     Ever_Married    0.028613\n"
     ]
    }
   ],
   "source": [
    "# RandomForestClassifierのインスタンスを作成して学習\n",
    "clf = RandomForestClassifier(random_state=42)\n",
    "clf.fit(X_train, y_train)\n",
    "\n",
    "# 特徴量の重要度を取得 (RandomForestの場合)\n",
    "importance = clf.feature_importances_\n",
    "\n",
    "# 特徴量名を取得\n",
    "feature_names = X.columns  # Xは特徴量のDataFrameの場合\n",
    "\n",
    "# 重要度と特徴量名を結びつける\n",
    "feature_importances = pd.DataFrame({'Feature': feature_names, 'Importance': importance})\n",
    "\n",
    "# 重要度順に並べ替え\n",
    "sorted_feature_importances = feature_importances.sort_values(by='Importance', ascending=False)\n",
    "\n",
    "# 並べ替えた結果を表示\n",
    "print(sorted_feature_importances)"
   ]
  },
  {
   "cell_type": "markdown",
   "metadata": {},
   "source": [
    "##  主要な特徴量を選択"
   ]
  },
  {
   "cell_type": "code",
   "execution_count": 454,
   "metadata": {},
   "outputs": [
    {
     "name": "stdout",
     "output_type": "stream",
     "text": [
      "X_train columns after dropping: Index(['Age', 'Profession', 'Work_Experience'], dtype='object')\n",
      "X_test columns after dropping: Index(['Age', 'Profession', 'Work_Experience'], dtype='object')\n"
     ]
    }
   ],
   "source": [
    "# 'Segmentation' 列をターゲット変数（y_train, y_test）として分離\n",
    "X_train = train.drop('Segmentation', axis=1)\n",
    "y_train = train['Segmentation']\n",
    "\n",
    "X_test = test.drop('Segmentation', axis=1)\n",
    "y_test = test['Segmentation']\n",
    "\n",
    "# 不要な特徴量を削除\n",
    "columns_to_drop = ['Ever_Married', 'Graduated', 'Gender', 'Spending_Score','Var_1','Family_Size']\n",
    "X_train = X_train.drop(columns=columns_to_drop, axis=1)\n",
    "X_test = X_test.drop(columns=columns_to_drop, axis=1)\n",
    "\n",
    "# 削除後の確認\n",
    "print(\"X_train columns after dropping:\", X_train.columns)\n",
    "print(\"X_test columns after dropping:\", X_test.columns)\n"
   ]
  },
  {
   "cell_type": "markdown",
   "metadata": {},
   "source": [
    "##  もう一度機械学習にかける"
   ]
  },
  {
   "cell_type": "markdown",
   "metadata": {},
   "source": [
    "###  ランダムフォレスト"
   ]
  },
  {
   "cell_type": "code",
   "execution_count": 455,
   "metadata": {},
   "outputs": [
    {
     "name": "stdout",
     "output_type": "stream",
     "text": [
      "正答率(訓練) =  0.34168987929433614\n"
     ]
    }
   ],
   "source": [
    "from sklearn.ensemble import RandomForestClassifier\n",
    "\n",
    "# ランダムフォレストモデルを作成\n",
    "clf = RandomForestClassifier (n_estimators=300, random_state=46,max_depth=15, min_samples_leaf=10,bootstrap=1)\n",
    "\n",
    "# モデルの訓練\n",
    "clf.fit(X_train, y_train)\n",
    "\n",
    "# 訓練データに対する正答率\n",
    "print(\"正答率(訓練) = \", clf.score(X_test, y_test))"
   ]
  },
  {
   "cell_type": "markdown",
   "metadata": {},
   "source": [
    "###  サポートベクターマシン "
   ]
  },
  {
   "cell_type": "code",
   "execution_count": 456,
   "metadata": {},
   "outputs": [
    {
     "name": "stdout",
     "output_type": "stream",
     "text": [
      "正答率(SVM) =  0.33240482822655526\n"
     ]
    }
   ],
   "source": [
    "from sklearn.svm import SVC\n",
    "from sklearn.metrics import accuracy_score\n",
    "\n",
    "# サポートベクターマシンモデルの作成\n",
    "clf_svm = SVC(random_state=46)\n",
    "\n",
    "# モデルの訓練\n",
    "clf_svm.fit(X_train, y_train)\n",
    "\n",
    "# 訓練データに対する正答率\n",
    "y_pred = clf_svm.predict(X_test)\n",
    "print(\"正答率(SVM) = \", accuracy_score(y_test, y_pred))"
   ]
  }
 ],
 "metadata": {
  "kernelspec": {
   "display_name": ".venv",
   "language": "python",
   "name": "python3"
  },
  "language_info": {
   "codemirror_mode": {
    "name": "ipython",
    "version": 3
   },
   "file_extension": ".py",
   "mimetype": "text/x-python",
   "name": "python",
   "nbconvert_exporter": "python",
   "pygments_lexer": "ipython3",
   "version": "3.10.1"
  }
 },
 "nbformat": 4,
 "nbformat_minor": 2
}
